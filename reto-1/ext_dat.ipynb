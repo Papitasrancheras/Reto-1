{
 "cells": [
  {
   "cell_type": "code",
   "execution_count": 15,
   "metadata": {},
   "outputs": [
    {
     "name": "stdout",
     "output_type": "stream",
     "text": [
      "<class 'pandas.core.frame.DataFrame'>\n",
      "Index: 3337 entries, Carmen to nan\n",
      "Data columns (total 8 columns):\n",
      " #   Column        Non-Null Count  Dtype         \n",
      "---  ------        --------------  -----         \n",
      " 0   Referencia    3337 non-null   int64         \n",
      " 1   Fecha Alta    3337 non-null   datetime64[ns]\n",
      " 2   Tipo          3337 non-null   object        \n",
      " 3   Operación     3337 non-null   object        \n",
      " 4   Provincia     3337 non-null   object        \n",
      " 5   Superficie    3337 non-null   int64         \n",
      " 6   Precio Venta  3337 non-null   int64         \n",
      " 7   Fecha Venta   2759 non-null   datetime64[ns]\n",
      "dtypes: datetime64[ns](2), int64(3), object(3)\n",
      "memory usage: 234.6+ KB\n"
     ]
    },
    {
     "data": {
      "text/html": [
       "<div>\n",
       "<style scoped>\n",
       "    .dataframe tbody tr th:only-of-type {\n",
       "        vertical-align: middle;\n",
       "    }\n",
       "\n",
       "    .dataframe tbody tr th {\n",
       "        vertical-align: top;\n",
       "    }\n",
       "\n",
       "    .dataframe thead th {\n",
       "        text-align: right;\n",
       "    }\n",
       "</style>\n",
       "<table border=\"1\" class=\"dataframe\">\n",
       "  <thead>\n",
       "    <tr style=\"text-align: right;\">\n",
       "      <th></th>\n",
       "      <th>Referencia</th>\n",
       "      <th>Fecha Alta</th>\n",
       "      <th>Tipo</th>\n",
       "      <th>Operación</th>\n",
       "      <th>Provincia</th>\n",
       "      <th>Superficie</th>\n",
       "      <th>Precio Venta</th>\n",
       "      <th>Fecha Venta</th>\n",
       "    </tr>\n",
       "    <tr>\n",
       "      <th>Vendedor</th>\n",
       "      <th></th>\n",
       "      <th></th>\n",
       "      <th></th>\n",
       "      <th></th>\n",
       "      <th></th>\n",
       "      <th></th>\n",
       "      <th></th>\n",
       "      <th></th>\n",
       "    </tr>\n",
       "  </thead>\n",
       "  <tbody>\n",
       "    <tr>\n",
       "      <th>Carmen</th>\n",
       "      <td>1</td>\n",
       "      <td>2004-01-01</td>\n",
       "      <td>Parking</td>\n",
       "      <td>Alquiler</td>\n",
       "      <td>Lleida</td>\n",
       "      <td>291</td>\n",
       "      <td>2133903</td>\n",
       "      <td>2004-06-19</td>\n",
       "    </tr>\n",
       "    <tr>\n",
       "      <th>Pedro</th>\n",
       "      <td>2</td>\n",
       "      <td>2004-01-01</td>\n",
       "      <td>Local</td>\n",
       "      <td>Venta</td>\n",
       "      <td>Girona</td>\n",
       "      <td>199</td>\n",
       "      <td>1945424</td>\n",
       "      <td>2004-04-19</td>\n",
       "    </tr>\n",
       "    <tr>\n",
       "      <th>Joaquín</th>\n",
       "      <td>3</td>\n",
       "      <td>2004-01-01</td>\n",
       "      <td>Oficina</td>\n",
       "      <td>Alquiler</td>\n",
       "      <td>Girona</td>\n",
       "      <td>82</td>\n",
       "      <td>712416</td>\n",
       "      <td>2004-11-08</td>\n",
       "    </tr>\n",
       "    <tr>\n",
       "      <th>Jesús</th>\n",
       "      <td>4</td>\n",
       "      <td>2004-01-02</td>\n",
       "      <td>Parking</td>\n",
       "      <td>Alquiler</td>\n",
       "      <td>Girona</td>\n",
       "      <td>285</td>\n",
       "      <td>1815450</td>\n",
       "      <td>2004-04-27</td>\n",
       "    </tr>\n",
       "    <tr>\n",
       "      <th>María</th>\n",
       "      <td>5</td>\n",
       "      <td>2004-01-02</td>\n",
       "      <td>Suelo</td>\n",
       "      <td>Venta</td>\n",
       "      <td>Tarragona</td>\n",
       "      <td>152</td>\n",
       "      <td>1138024</td>\n",
       "      <td>2004-07-10</td>\n",
       "    </tr>\n",
       "    <tr>\n",
       "      <th>...</th>\n",
       "      <td>...</td>\n",
       "      <td>...</td>\n",
       "      <td>...</td>\n",
       "      <td>...</td>\n",
       "      <td>...</td>\n",
       "      <td>...</td>\n",
       "      <td>...</td>\n",
       "      <td>...</td>\n",
       "    </tr>\n",
       "    <tr>\n",
       "      <th>NaN</th>\n",
       "      <td>3333</td>\n",
       "      <td>2007-04-29</td>\n",
       "      <td>Industrial</td>\n",
       "      <td>Alquiler</td>\n",
       "      <td>Lleida</td>\n",
       "      <td>221</td>\n",
       "      <td>1450644</td>\n",
       "      <td>NaT</td>\n",
       "    </tr>\n",
       "    <tr>\n",
       "      <th>NaN</th>\n",
       "      <td>3334</td>\n",
       "      <td>2007-04-29</td>\n",
       "      <td>Piso</td>\n",
       "      <td>Alquiler</td>\n",
       "      <td>Girona</td>\n",
       "      <td>55</td>\n",
       "      <td>454080</td>\n",
       "      <td>NaT</td>\n",
       "    </tr>\n",
       "    <tr>\n",
       "      <th>NaN</th>\n",
       "      <td>3335</td>\n",
       "      <td>2007-04-30</td>\n",
       "      <td>Suelo</td>\n",
       "      <td>Venta</td>\n",
       "      <td>Tarragona</td>\n",
       "      <td>78</td>\n",
       "      <td>740688</td>\n",
       "      <td>NaT</td>\n",
       "    </tr>\n",
       "    <tr>\n",
       "      <th>NaN</th>\n",
       "      <td>3336</td>\n",
       "      <td>2007-04-30</td>\n",
       "      <td>Piso</td>\n",
       "      <td>Alquiler</td>\n",
       "      <td>Barcelona</td>\n",
       "      <td>88</td>\n",
       "      <td>397408</td>\n",
       "      <td>NaT</td>\n",
       "    </tr>\n",
       "    <tr>\n",
       "      <th>NaN</th>\n",
       "      <td>3337</td>\n",
       "      <td>2007-04-30</td>\n",
       "      <td>Parking</td>\n",
       "      <td>Venta</td>\n",
       "      <td>Lleida</td>\n",
       "      <td>254</td>\n",
       "      <td>2140712</td>\n",
       "      <td>NaT</td>\n",
       "    </tr>\n",
       "  </tbody>\n",
       "</table>\n",
       "<p>3337 rows × 8 columns</p>\n",
       "</div>"
      ],
      "text/plain": [
       "          Referencia Fecha Alta        Tipo Operación  Provincia  Superficie  \\\n",
       "Vendedor                                                                       \n",
       "Carmen             1 2004-01-01     Parking  Alquiler     Lleida         291   \n",
       "Pedro              2 2004-01-01       Local     Venta     Girona         199   \n",
       "Joaquín            3 2004-01-01     Oficina  Alquiler     Girona          82   \n",
       "Jesús              4 2004-01-02     Parking  Alquiler     Girona         285   \n",
       "María              5 2004-01-02       Suelo     Venta  Tarragona         152   \n",
       "...              ...        ...         ...       ...        ...         ...   \n",
       "NaN             3333 2007-04-29  Industrial  Alquiler     Lleida         221   \n",
       "NaN             3334 2007-04-29        Piso  Alquiler     Girona          55   \n",
       "NaN             3335 2007-04-30       Suelo     Venta  Tarragona          78   \n",
       "NaN             3336 2007-04-30        Piso  Alquiler  Barcelona          88   \n",
       "NaN             3337 2007-04-30     Parking     Venta     Lleida         254   \n",
       "\n",
       "          Precio Venta Fecha Venta  \n",
       "Vendedor                            \n",
       "Carmen         2133903  2004-06-19  \n",
       "Pedro          1945424  2004-04-19  \n",
       "Joaquín         712416  2004-11-08  \n",
       "Jesús          1815450  2004-04-27  \n",
       "María          1138024  2004-07-10  \n",
       "...                ...         ...  \n",
       "NaN            1450644         NaT  \n",
       "NaN             454080         NaT  \n",
       "NaN             740688         NaT  \n",
       "NaN             397408         NaT  \n",
       "NaN            2140712         NaT  \n",
       "\n",
       "[3337 rows x 8 columns]"
      ]
     },
     "execution_count": 15,
     "metadata": {},
     "output_type": "execute_result"
    }
   ],
   "source": [
    "#Importamos la librería: pandas\n",
    "import pandas as pd \n",
    "import io \n",
    "#Cargamos nuestra base de datos \n",
    "df = pd.read_excel('Inmuebles.xlsx', index_col=8 ) \n",
    "#df = pd.read_excel(io.BytesIO(uploaded['Inmuebles.xlsx']), index_col=2) \n",
    "df.info()\n",
    "df"
   ]
  },
  {
   "cell_type": "markdown",
   "metadata": {},
   "source": [
    "# Filtro 1"
   ]
  },
  {
   "cell_type": "code",
   "execution_count": null,
   "metadata": {},
   "outputs": [],
   "source": [
    "#Filtro 1\n",
    "#Filtro para variables cualitativas\n",
    "#Exploremos las ventas realizadas por Carmen \n",
    "f1=df[df[\"Vendedor\"] == \"Carmen\"]\n",
    "f1\n"
   ]
  },
  {
   "cell_type": "code",
   "execution_count": 4,
   "metadata": {},
   "outputs": [],
   "source": [
    "#Convertirmos el archivo filtrado a CSV\n",
    "f1.to_csv(\"Filtro1.csv\")"
   ]
  },
  {
   "cell_type": "markdown",
   "metadata": {},
   "source": [
    "# Filtro 2"
   ]
  },
  {
   "cell_type": "code",
   "execution_count": null,
   "metadata": {},
   "outputs": [],
   "source": [
    "#Filtro 2\n",
    "#Filtro por filas\n",
    "#Seleccionemos las entradas de la fila 1000 a la 2000\n",
    "f2= df.iloc[1000:2000,: ] #Filtro para filas consecutivas \n",
    "f2"
   ]
  },
  {
   "cell_type": "code",
   "execution_count": 7,
   "metadata": {},
   "outputs": [],
   "source": [
    "#Convertirmos el archivo filtrado a CSV\n",
    "f2.to_csv(\"Filtro2.csv\")"
   ]
  },
  {
   "cell_type": "markdown",
   "metadata": {},
   "source": [
    "# Filtro 3"
   ]
  },
  {
   "cell_type": "code",
   "execution_count": null,
   "metadata": {},
   "outputs": [],
   "source": [
    "#Filtro 3\n",
    "#Filtro por columnas\n",
    "#Obtengamos las columnas 4,7 y 9 para una análisis de ventas\n",
    "f3=df.iloc[ : , [8,6,3]]  #columnas no consecutivas \n",
    "f3"
   ]
  },
  {
   "cell_type": "code",
   "execution_count": 11,
   "metadata": {},
   "outputs": [],
   "source": [
    "#Convertirmos el archivo filtrado a CSV\n",
    "f3.to_csv(\"Filtro3.csv\")"
   ]
  },
  {
   "cell_type": "markdown",
   "metadata": {},
   "source": [
    "# Filtro 4 "
   ]
  },
  {
   "cell_type": "code",
   "execution_count": null,
   "metadata": {},
   "outputs": [],
   "source": [
    "#Fitro 4\n",
    "#Filtro de filas vs columnas \n",
    "#Definimos la columna de Vendedor como índice y la relacionamos con la de Precio Venta\n",
    "f4=df.loc[[\"Carmen\",\"Joaquín\"], [\"Precio Venta\"]]\n",
    "f4"
   ]
  },
  {
   "cell_type": "code",
   "execution_count": 20,
   "metadata": {},
   "outputs": [],
   "source": [
    "#Convertirmos el archivo filtrado a CSV\n",
    "f4.to_csv(\"Filtro4.csv\")"
   ]
  },
  {
   "cell_type": "markdown",
   "metadata": {},
   "source": [
    "# Filtro 5 "
   ]
  },
  {
   "cell_type": "code",
   "execution_count": null,
   "metadata": {},
   "outputs": [],
   "source": [
    "#Filtro 5\n",
    "#Filtro por cabecera\n",
    "#Obtenemos la cabecera de nuestra base de datos\n",
    "f5=df.head()\n",
    "f5"
   ]
  },
  {
   "cell_type": "code",
   "execution_count": 22,
   "metadata": {},
   "outputs": [],
   "source": [
    "#Convertirmos el archivo filtrado a CSV\n",
    "f5.to_csv(\"Filtro5.csv\")"
   ]
  },
  {
   "cell_type": "markdown",
   "metadata": {},
   "source": [
    "# Filtro 6"
   ]
  },
  {
   "cell_type": "code",
   "execution_count": null,
   "metadata": {},
   "outputs": [],
   "source": [
    "#Filtro 6\n",
    "#Filtros básicos para variables cuantitativas\n",
    "# Filtro por comparación \n",
    "#Filtremos para obtener los registros de la columna Precio Venta mayores a 2 millones\n",
    "f6=df[df[\"Precio Venta\"] > 2000000]\n",
    "f6\n"
   ]
  },
  {
   "cell_type": "code",
   "execution_count": 25,
   "metadata": {},
   "outputs": [],
   "source": [
    "#Convertirmos el archivo filtrado a CSV\n",
    "f6.to_csv(\"Filtro6.csv\")"
   ]
  }
 ],
 "metadata": {
  "kernelspec": {
   "display_name": "Python 3.10.6 64-bit",
   "language": "python",
   "name": "python3"
  },
  "language_info": {
   "codemirror_mode": {
    "name": "ipython",
    "version": 3
   },
   "file_extension": ".py",
   "mimetype": "text/x-python",
   "name": "python",
   "nbconvert_exporter": "python",
   "pygments_lexer": "ipython3",
   "version": "3.10.6"
  },
  "orig_nbformat": 4,
  "vscode": {
   "interpreter": {
    "hash": "11a32da29e01205a8970d64bc3d9d944de9781f6310edf4d79f8b59a916b61f2"
   }
  }
 },
 "nbformat": 4,
 "nbformat_minor": 2
}
